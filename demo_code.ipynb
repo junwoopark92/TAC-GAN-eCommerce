{
 "cells": [
  {
   "cell_type": "code",
   "execution_count": null,
   "metadata": {
    "collapsed": true
   },
   "outputs": [],
   "source": [
    "import os\n",
    "import torch\n",
    "import pickle\n",
    "import argparse\n",
    "import h5py\n",
    "from torch.autograd import Variable\n",
    "from model import NetD, NetG\n",
    "from PIL import Image, ImageDraw\n",
    "import torchvision.transforms as transforms"
   ]
  },
  {
   "cell_type": "code",
   "execution_count": null,
   "metadata": {
    "collapsed": true
   },
   "outputs": [],
   "source": [
    "def concat_image(images,nrows, ncols):\n",
    "    width = 128\n",
    "    height = 128\n",
    "    \n",
    "    background = Image.new('RGBA',(128*ncols, 128*nrows), (255, 255, 255, 255))\n",
    "    bg_w, bg_h = background.size\n",
    "    \n",
    "    for i,image in enumerate(images):\n",
    "    #print(i)\n",
    "        img = image\n",
    "        draw = ImageDraw.Draw(img, \"RGB\")\n",
    "        #font = ImageFont.truetype(\"/Library/Fonts/Arial.ttf\",50)\n",
    "        #draw.text((50, 50), str(i),)\n",
    "        start_X = i%ncols * 128\n",
    "        start_Y = i//ncols * 128\n",
    "        offset = (start_X,start_Y,start_X+width,start_Y+height)\n",
    "        background.paste(img,offset)\n",
    "        \n",
    "    return background"
   ]
  },
  {
   "cell_type": "code",
   "execution_count": null,
   "metadata": {
    "collapsed": true
   },
   "outputs": [],
   "source": [
    "h = h5py.File('./data/datasets/products/train/data.h5py','r')['train']"
   ]
  },
  {
   "cell_type": "code",
   "execution_count": null,
   "metadata": {},
   "outputs": [],
   "source": [
    "for i in h.keys():\n",
    "    print(i)"
   ]
  },
  {
   "cell_type": "code",
   "execution_count": null,
   "metadata": {},
   "outputs": [],
   "source": [
    "h['asin'][:10]"
   ]
  },
  {
   "cell_type": "code",
   "execution_count": null,
   "metadata": {},
   "outputs": [],
   "source": [
    "h['cate'][:10]"
   ]
  },
  {
   "cell_type": "code",
   "execution_count": null,
   "metadata": {
    "collapsed": true
   },
   "outputs": [],
   "source": [
    "checkpoint_path = 'outputs/netg_checkpoints/netG__epoch_45.pth'"
   ]
  },
  {
   "cell_type": "code",
   "execution_count": null,
   "metadata": {
    "collapsed": true
   },
   "outputs": [],
   "source": [
    "n_z = 100\n",
    "n_l = 100\n",
    "n_t = 500\n",
    "n_c = 64\n",
    "netG = NetG(n_z=n_z, n_l=n_l, n_c=n_c, n_t=n_t)\n",
    "netG.load_state_dict(torch.load(checkpoint_path, map_location=lambda storage, loc: storage))"
   ]
  },
  {
   "cell_type": "code",
   "execution_count": null,
   "metadata": {
    "collapsed": true
   },
   "outputs": [],
   "source": [
    "transform = transforms.Compose([transforms.ToPILImage(),])"
   ]
  },
  {
   "cell_type": "code",
   "execution_count": null,
   "metadata": {
    "collapsed": true
   },
   "outputs": [],
   "source": [
    "netG.zero_grad()"
   ]
  },
  {
   "cell_type": "markdown",
   "metadata": {},
   "source": [
    "### train sample"
   ]
  },
  {
   "cell_type": "code",
   "execution_count": null,
   "metadata": {
    "collapsed": true
   },
   "outputs": [],
   "source": [
    "index = 3\n",
    "caption = Variable(torch.from_numpy(h['docvec'][index].reshape(1,-1)))\n",
    "noise = Variable(torch.randn(1, 100)) # create random noise\n",
    "noise.data.normal_(0,1) # normalize the noise\n",
    "fake = netG(noise, caption)"
   ]
  },
  {
   "cell_type": "code",
   "execution_count": null,
   "metadata": {
    "collapsed": true
   },
   "outputs": [],
   "source": [
    "img = transform(fake[0].data)"
   ]
  },
  {
   "cell_type": "code",
   "execution_count": null,
   "metadata": {},
   "outputs": [],
   "source": [
    "img"
   ]
  },
  {
   "cell_type": "markdown",
   "metadata": {},
   "source": [
    "### val sample"
   ]
  },
  {
   "cell_type": "code",
   "execution_count": null,
   "metadata": {
    "collapsed": true
   },
   "outputs": [],
   "source": []
  },
  {
   "cell_type": "markdown",
   "metadata": {},
   "source": [
    "### test sample"
   ]
  },
  {
   "cell_type": "code",
   "execution_count": null,
   "metadata": {
    "collapsed": true
   },
   "outputs": [],
   "source": [
    "import pandas as pd"
   ]
  },
  {
   "cell_type": "code",
   "execution_count": null,
   "metadata": {},
   "outputs": [],
   "source": [
    "df = pd.read_csv('./data/datasets/products/products.tsv',sep='\\t',header=None)\n",
    "df.info()"
   ]
  },
  {
   "cell_type": "code",
   "execution_count": null,
   "metadata": {
    "scrolled": true
   },
   "outputs": [],
   "source": [
    "df[1].value_counts()"
   ]
  },
  {
   "cell_type": "code",
   "execution_count": null,
   "metadata": {},
   "outputs": [],
   "source": [
    "sub = df[df[1] == 'Movies&TV>Movies']\n",
    "imgdir = 'data/datasets/products/images/'\n",
    "images = []\n",
    "for i, row in sub.iterrows():\n",
    "    asin = row[0]\n",
    "    images.append(Image.open( imgdir+ asin +'.jpg').resize((128,128)))\n",
    "    if i == 10:\n",
    "        break"
   ]
  },
  {
   "cell_type": "code",
   "execution_count": null,
   "metadata": {
    "collapsed": true
   },
   "outputs": [],
   "source": [
    "concat_image(images,1,len(images))"
   ]
  }
 ],
 "metadata": {
  "kernelspec": {
   "display_name": "Python 3",
   "language": "python",
   "name": "python3"
  },
  "language_info": {
   "codemirror_mode": {
    "name": "ipython",
    "version": 3
   },
   "file_extension": ".py",
   "mimetype": "text/x-python",
   "name": "python",
   "nbconvert_exporter": "python",
   "pygments_lexer": "ipython3",
   "version": "3.6.3"
  }
 },
 "nbformat": 4,
 "nbformat_minor": 2
}
