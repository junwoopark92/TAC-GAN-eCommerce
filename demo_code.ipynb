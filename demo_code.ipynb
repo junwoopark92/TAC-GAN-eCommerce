{
 "cells": [
  {
   "cell_type": "code",
   "execution_count": 2,
   "metadata": {
    "collapsed": true
   },
   "outputs": [],
   "source": [
    "import os\n",
    "import pickle\n",
    "import argparse\n",
    "import skipthoughts"
   ]
  },
  {
   "cell_type": "code",
   "execution_count": null,
   "metadata": {
    "collapsed": true
   },
   "outputs": [],
   "source": [
    "checkpoint_path = 'checkpoints/netG__epoch_25.pth'"
   ]
  },
  {
   "cell_type": "code",
   "execution_count": 3,
   "metadata": {
    "collapsed": false,
    "scrolled": false
   },
   "outputs": [
    {
     "name": "stdout",
     "output_type": "stream",
     "text": [
      "Loading model parameters...\n",
      "Compiling encoders...\n",
      "Loading tables...\n",
      "Packing up...\n"
     ]
    },
    {
     "ename": "NameError",
     "evalue": "name 'caption_file' is not defined",
     "output_type": "error",
     "traceback": [
      "\u001b[0;31m---------------------------------------------------------------------------\u001b[0m",
      "\u001b[0;31mNameError\u001b[0m                                 Traceback (most recent call last)",
      "\u001b[0;32m<ipython-input-3-9a650085abb9>\u001b[0m in \u001b[0;36m<module>\u001b[0;34m()\u001b[0m\n\u001b[1;32m      1\u001b[0m \u001b[0mmodel\u001b[0m \u001b[0;34m=\u001b[0m \u001b[0mskipthoughts\u001b[0m\u001b[0;34m.\u001b[0m\u001b[0mload_model\u001b[0m\u001b[0;34m(\u001b[0m\u001b[0;34m)\u001b[0m\u001b[0;34m\u001b[0m\u001b[0m\n\u001b[1;32m      2\u001b[0m \u001b[0mencoded_captions\u001b[0m \u001b[0;34m=\u001b[0m \u001b[0;34m{\u001b[0m\u001b[0;34m}\u001b[0m\u001b[0;34m\u001b[0m\u001b[0m\n\u001b[0;32m----> 3\u001b[0;31m \u001b[0mfile_path\u001b[0m \u001b[0;34m=\u001b[0m \u001b[0mos\u001b[0m\u001b[0;34m.\u001b[0m\u001b[0mpath\u001b[0m\u001b[0;34m.\u001b[0m\u001b[0mjoin\u001b[0m\u001b[0;34m(\u001b[0m\u001b[0mcaption_file\u001b[0m\u001b[0;34m)\u001b[0m\u001b[0;34m\u001b[0m\u001b[0m\n\u001b[0m",
      "\u001b[0;31mNameError\u001b[0m: name 'caption_file' is not defined"
     ]
    }
   ],
   "source": [
    "model = skipthoughts.load_model()"
   ]
  },
  {
   "cell_type": "code",
   "execution_count": null,
   "metadata": {
    "collapsed": true
   },
   "outputs": [],
   "source": [
    "netG = NetG()\n",
    "netG.load_state_dict(torch.load(checkpoint_path, map_location=lambda storage, loc: storage))"
   ]
  },
  {
   "cell_type": "markdown",
   "metadata": {},
   "source": [
    "### train sample"
   ]
  },
  {
   "cell_type": "code",
   "execution_count": null,
   "metadata": {
    "collapsed": true
   },
   "outputs": [],
   "source": []
  },
  {
   "cell_type": "markdown",
   "metadata": {},
   "source": [
    "### val sample"
   ]
  },
  {
   "cell_type": "code",
   "execution_count": null,
   "metadata": {
    "collapsed": true
   },
   "outputs": [],
   "source": []
  },
  {
   "cell_type": "markdown",
   "metadata": {},
   "source": [
    "### test sample"
   ]
  },
  {
   "cell_type": "code",
   "execution_count": 18,
   "metadata": {
    "collapsed": false
   },
   "outputs": [],
   "source": [
    "import pickle"
   ]
  },
  {
   "cell_type": "code",
   "execution_count": 22,
   "metadata": {
    "collapsed": false,
    "scrolled": true
   },
   "outputs": [
    {
     "data": {
      "text/plain": [
       "{'-1': 8,\n",
       " 'All Beauty': 26,\n",
       " 'All Electronics': 21,\n",
       " 'Amazon Fashion': 32,\n",
       " 'Appliances': 38,\n",
       " 'Arts Crafts & Sewing': 19,\n",
       " 'Automotive': 18,\n",
       " 'Baby': 16,\n",
       " 'Baby Products': 31,\n",
       " 'Beauty': 17,\n",
       " 'Books': 0,\n",
       " 'Buy a Kindle': 45,\n",
       " 'CDs & Vinyl': 5,\n",
       " 'Camera & Photo': 27,\n",
       " 'Car Electronics': 36,\n",
       " 'Cell Phones & Accessories': 11,\n",
       " 'Clothing Shoes & Jewelry': 2,\n",
       " 'Collectible Coins': 46,\n",
       " 'Collectibles & Fine Art': 34,\n",
       " 'Computers': 20,\n",
       " 'Digital Music': 33,\n",
       " 'Electronics': 14,\n",
       " 'Entertainment': 47,\n",
       " 'Furniture & D&#233;cor': 43,\n",
       " 'GPS & Navigation': 40,\n",
       " 'Gift Cards': 37,\n",
       " 'Grocery & Gourmet Food': 23,\n",
       " 'Health & Personal Care': 10,\n",
       " 'Home & Kitchen': 9,\n",
       " 'Home Improvement': 30,\n",
       " 'Industrial & Scientific': 25,\n",
       " 'Kindle Store': 44,\n",
       " 'Kitchen & Dining': 24,\n",
       " 'Luxury Beauty': 41,\n",
       " 'MP3 Players & Accessories': 35,\n",
       " 'Magazine Subscriptions': 42,\n",
       " 'Movies & TV': 1,\n",
       " 'Musical Instruments': 6,\n",
       " 'Office & School Supplies': 15,\n",
       " 'Office Products': 12,\n",
       " 'Patio Lawn & Garden': 28,\n",
       " 'Pet Supplies': 22,\n",
       " 'Purchase Circles': 39,\n",
       " 'Software': 13,\n",
       " 'Sports & Outdoors': 3,\n",
       " 'Tools & Home Improvement': 7,\n",
       " 'Toys & Games': 4,\n",
       " 'Video Games': 29}"
      ]
     },
     "execution_count": 22,
     "metadata": {},
     "output_type": "execute_result"
    }
   ],
   "source": [
    "pickle.loads(open('./data/datasets/products/y_vocab.pickle', 'rb').read())"
   ]
  },
  {
   "cell_type": "code",
   "execution_count": 24,
   "metadata": {
    "collapsed": false
   },
   "outputs": [],
   "source": [
    "import gzip\n",
    "g = gzip.open('./data/datasets/products/metadata.json.gz', 'r')"
   ]
  },
  {
   "cell_type": "code",
   "execution_count": 29,
   "metadata": {
    "collapsed": false
   },
   "outputs": [],
   "source": [
    "with gzip.open('./data/datasets/products/metadata.json.gz', 'r') as f:\n",
    "    for i, l in enumerate(f):\n",
    "        pass"
   ]
  },
  {
   "cell_type": "code",
   "execution_count": 30,
   "metadata": {
    "collapsed": false
   },
   "outputs": [
    {
     "data": {
      "text/plain": [
       "9430087"
      ]
     },
     "execution_count": 30,
     "metadata": {},
     "output_type": "execute_result"
    }
   ],
   "source": [
    "i"
   ]
  },
  {
   "cell_type": "code",
   "execution_count": null,
   "metadata": {
    "collapsed": true
   },
   "outputs": [],
   "source": []
  }
 ],
 "metadata": {
  "kernelspec": {
   "display_name": "Python 3",
   "language": "python",
   "name": "python3"
  },
  "language_info": {
   "codemirror_mode": {
    "name": "ipython",
    "version": 3
   },
   "file_extension": ".py",
   "mimetype": "text/x-python",
   "name": "python",
   "nbconvert_exporter": "python",
   "pygments_lexer": "ipython3",
   "version": "3.6.0"
  }
 },
 "nbformat": 4,
 "nbformat_minor": 2
}
